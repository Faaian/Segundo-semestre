{
 "cells": [
  {
   "cell_type": "markdown",
   "metadata": {},
   "source": [
    "P7"
   ]
  },
  {
   "cell_type": "code",
   "execution_count": 1,
   "metadata": {},
   "outputs": [
    {
     "name": "stdout",
     "output_type": "stream",
     "text": [
      "a(1)=5\n",
      "a(2)=10\n",
      "a(3)=15\n",
      "a(4)=20\n",
      "a(5)=25\n",
      "a(6)=30\n"
     ]
    }
   ],
   "source": [
    "a = []\n",
    "for i in range (6):\n",
    "    n = i + 1\n",
    "    a.append(5*n)\n",
    "    print(f'a({n})={a[i]}')"
   ]
  },
  {
   "cell_type": "markdown",
   "metadata": {},
   "source": [
    "P8"
   ]
  },
  {
   "cell_type": "code",
   "execution_count": 2,
   "metadata": {},
   "outputs": [
    {
     "name": "stdout",
     "output_type": "stream",
     "text": [
      "a(1)=7\n",
      "a(2)=14\n",
      "a(3)=21\n",
      "a(4)=28\n",
      "a(5)=35\n",
      "a(6)=42\n"
     ]
    }
   ],
   "source": [
    "a = []\n",
    "for i in range (6):\n",
    "    n = i + 1\n",
    "    a.append(7*n)\n",
    "    print(f'a({n})={a[i]}')"
   ]
  },
  {
   "cell_type": "markdown",
   "metadata": {},
   "source": [
    "P9"
   ]
  },
  {
   "cell_type": "code",
   "execution_count": 3,
   "metadata": {},
   "outputs": [
    {
     "name": "stdout",
     "output_type": "stream",
     "text": [
      "t(1)=2\n",
      "t(2)=5\n",
      "t(3)=10\n",
      "t(4)=17\n",
      "t(5)=26\n",
      "t(6)=37\n"
     ]
    }
   ],
   "source": [
    "t = []\n",
    "for i in range (6):\n",
    "    n = i + 1\n",
    "    t.append(n**2+1)\n",
    "    print(f't({n})={t[i]}')"
   ]
  },
  {
   "cell_type": "code",
   "execution_count": 4,
   "metadata": {},
   "outputs": [
    {
     "name": "stdout",
     "output_type": "stream",
     "text": [
      "u(1)=0\n",
      "u(2)=3\n",
      "u(3)=8\n",
      "u(4)=15\n",
      "u(5)=24\n",
      "u(6)=35\n"
     ]
    }
   ],
   "source": [
    "u = []\n",
    "for i in range (6):\n",
    "    n = i + 1\n",
    "    u.append(n**2-1)\n",
    "    print(f'u({n})={u[i]}')"
   ]
  },
  {
   "cell_type": "code",
   "execution_count": 5,
   "metadata": {},
   "outputs": [
    {
     "name": "stdout",
     "output_type": "stream",
     "text": [
      "v(1)=10\n",
      "v(2)=40\n",
      "v(3)=90\n",
      "v(4)=160\n",
      "v(5)=250\n",
      "v(6)=360\n"
     ]
    }
   ],
   "source": [
    "v = []\n",
    "for i in range (6):\n",
    "    n = i + 1\n",
    "    v.append(10*n**2)\n",
    "    print(f'v({n})={v[i]}')"
   ]
  },
  {
   "cell_type": "markdown",
   "metadata": {},
   "source": [
    "Ejemplo"
   ]
  },
  {
   "cell_type": "code",
   "execution_count": 6,
   "metadata": {},
   "outputs": [
    {
     "name": "stdout",
     "output_type": "stream",
     "text": [
      "a(1)=9\n",
      "a(2)=16\n",
      "a(3)=23\n",
      "a(4)=30\n",
      "a(5)=37\n",
      "a(6)=44\n"
     ]
    }
   ],
   "source": [
    "a = []\n",
    "for i in range (6):\n",
    "    n = i + 1\n",
    "    a.append(7*n+2)\n",
    "    print(f'a({n})={a[i]}')"
   ]
  },
  {
   "cell_type": "markdown",
   "metadata": {},
   "source": [
    "P11"
   ]
  },
  {
   "cell_type": "code",
   "execution_count": 17,
   "metadata": {},
   "outputs": [
    {
     "name": "stdout",
     "output_type": "stream",
     "text": [
      "a(1)=25.72\n",
      "a(2)=26.93\n",
      "a(3)=28.14\n",
      "a(4)=29.349999999999998\n",
      "a(5)=30.56\n",
      "a(6)=31.77\n"
     ]
    }
   ],
   "source": [
    "a = []\n",
    "for i in range (6):\n",
    "    n = i + 1\n",
    "    a.append(1.21*(n-1)+25.72)\n",
    "    print(f'a({n})={a[i]}')"
   ]
  },
  {
   "cell_type": "markdown",
   "metadata": {},
   "source": [
    "P12"
   ]
  },
  {
   "cell_type": "code",
   "execution_count": 4,
   "metadata": {},
   "outputs": [
    {
     "name": "stdout",
     "output_type": "stream",
     "text": [
      "a(1)=-56\n",
      "a(2)=-52\n",
      "a(3)=-48\n",
      "a(4)=-44\n",
      "a(5)=-40\n",
      "a(6)=-36\n",
      "a(7)=-32\n",
      "a(8)=-28\n",
      "a(9)=-24\n",
      "a(10)=-20\n"
     ]
    }
   ],
   "source": [
    "a = []\n",
    "for i in range (10):\n",
    "    n = i + 1\n",
    "    a.append(-56+(n-1)*4)\n",
    "    print(f'a({n})={a[i]}')"
   ]
  },
  {
   "cell_type": "markdown",
   "metadata": {},
   "source": [
    "P13"
   ]
  },
  {
   "cell_type": "code",
   "execution_count": null,
   "metadata": {},
   "outputs": [],
   "source": [
    "a = []\n",
    "for i in range (10):\n",
    "    n = i + 1\n",
    "    a.append()\n",
    "    print(f'a({n})={a[i]}')"
   ]
  }
 ],
 "metadata": {
  "kernelspec": {
   "display_name": "Python 3.10.6 64-bit",
   "language": "python",
   "name": "python3"
  },
  "language_info": {
   "codemirror_mode": {
    "name": "ipython",
    "version": 3
   },
   "file_extension": ".py",
   "mimetype": "text/x-python",
   "name": "python",
   "nbconvert_exporter": "python",
   "pygments_lexer": "ipython3",
   "version": "3.10.6"
  },
  "orig_nbformat": 4,
  "vscode": {
   "interpreter": {
    "hash": "369f2c481f4da34e4445cda3fffd2e751bd1c4d706f27375911949ba6bb62e1c"
   }
  }
 },
 "nbformat": 4,
 "nbformat_minor": 2
}
