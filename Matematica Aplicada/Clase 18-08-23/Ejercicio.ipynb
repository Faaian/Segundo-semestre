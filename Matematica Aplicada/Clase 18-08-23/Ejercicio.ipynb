{
 "cells": [
  {
   "cell_type": "markdown",
   "metadata": {},
   "source": [
    "P7"
   ]
  },
  {
   "cell_type": "code",
   "execution_count": 4,
   "metadata": {},
   "outputs": [
    {
     "name": "stdout",
     "output_type": "stream",
     "text": [
      "a(1)=5\n",
      "a(2)=10\n",
      "a(3)=15\n",
      "a(4)=20\n",
      "a(5)=25\n",
      "a(6)=30\n"
     ]
    }
   ],
   "source": [
    "a = []\n",
    "for i in range (6):\n",
    "    n = i + 1\n",
    "    a.append(5*n)\n",
    "    print(f'a({n})={a[i]}')"
   ]
  },
  {
   "cell_type": "markdown",
   "metadata": {},
   "source": [
    "P8"
   ]
  },
  {
   "cell_type": "code",
   "execution_count": 5,
   "metadata": {},
   "outputs": [
    {
     "name": "stdout",
     "output_type": "stream",
     "text": [
      "a(1)=7\n",
      "a(2)=14\n",
      "a(3)=21\n",
      "a(4)=28\n",
      "a(5)=35\n",
      "a(6)=42\n"
     ]
    }
   ],
   "source": [
    "a = []\n",
    "for i in range (6):\n",
    "    n = i + 1\n",
    "    a.append(7*n)\n",
    "    print(f'a({n})={a[i]}')"
   ]
  }
 ],
 "metadata": {
  "kernelspec": {
   "display_name": "Python 3.10.6 64-bit",
   "language": "python",
   "name": "python3"
  },
  "language_info": {
   "codemirror_mode": {
    "name": "ipython",
    "version": 3
   },
   "file_extension": ".py",
   "mimetype": "text/x-python",
   "name": "python",
   "nbconvert_exporter": "python",
   "pygments_lexer": "ipython3",
   "version": "3.10.6"
  },
  "orig_nbformat": 4,
  "vscode": {
   "interpreter": {
    "hash": "369f2c481f4da34e4445cda3fffd2e751bd1c4d706f27375911949ba6bb62e1c"
   }
  }
 },
 "nbformat": 4,
 "nbformat_minor": 2
}
