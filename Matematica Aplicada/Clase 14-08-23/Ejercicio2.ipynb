{
 "cells": [
  {
   "cell_type": "code",
   "execution_count": 4,
   "metadata": {},
   "outputs": [
    {
     "name": "stdout",
     "output_type": "stream",
     "text": [
      "b(10)=2.9\n",
      "b(100)=2.99\n",
      "b(1000)=2.999\n",
      "b(10000)=2.9999\n",
      "b(100000)=2.99999\n",
      "b(1000000)=2.999999\n",
      "b(10000000)=2.9999999\n",
      "b(100000000)=2.99999999\n"
     ]
    }
   ],
   "source": [
    "b = []\n",
    "for i in range(8):\n",
    "    n = 10**(i+1)\n",
    "    b.append(3-(1/n))\n",
    "    print(f'b({n})={b[i]}')"
   ]
  }
 ],
 "metadata": {
  "kernelspec": {
   "display_name": "Python 3.10.6 64-bit",
   "language": "python",
   "name": "python3"
  },
  "language_info": {
   "codemirror_mode": {
    "name": "ipython",
    "version": 3
   },
   "file_extension": ".py",
   "mimetype": "text/x-python",
   "name": "python",
   "nbconvert_exporter": "python",
   "pygments_lexer": "ipython3",
   "version": "3.10.6"
  },
  "orig_nbformat": 4,
  "vscode": {
   "interpreter": {
    "hash": "369f2c481f4da34e4445cda3fffd2e751bd1c4d706f27375911949ba6bb62e1c"
   }
  }
 },
 "nbformat": 4,
 "nbformat_minor": 2
}
