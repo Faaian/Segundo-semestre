{
 "cells": [
  {
   "cell_type": "markdown",
   "metadata": {},
   "source": [
    "A)"
   ]
  },
  {
   "cell_type": "code",
   "execution_count": 1,
   "metadata": {},
   "outputs": [
    {
     "name": "stdout",
     "output_type": "stream",
     "text": [
      "a(1)=3\n",
      "a(2)=6\n",
      "a(3)=9\n",
      "a(4)=12\n",
      "a(5)=15\n"
     ]
    }
   ],
   "source": [
    "a = []\n",
    "for i in range(5):\n",
    "    n = i + 1\n",
    "    a.append(3*n)\n",
    "    print(f'a({n})={a[i]}')"
   ]
  },
  {
   "cell_type": "markdown",
   "metadata": {},
   "source": [
    "B)"
   ]
  },
  {
   "cell_type": "code",
   "execution_count": 3,
   "metadata": {},
   "outputs": [
    {
     "name": "stdout",
     "output_type": "stream",
     "text": [
      "b(1)=-3\n",
      "b(2)=6\n",
      "b(3)=-9\n",
      "b(4)=12\n",
      "b(5)=-15\n"
     ]
    }
   ],
   "source": [
    "b = []\n",
    "for i in range(5):\n",
    "    n = i + 1\n",
    "    b.append(3*n*(-1)**n)\n",
    "    print(f'b({n})={b[i]}')"
   ]
  },
  {
   "cell_type": "markdown",
   "metadata": {},
   "source": [
    "C)"
   ]
  },
  {
   "cell_type": "code",
   "execution_count": 4,
   "metadata": {},
   "outputs": [
    {
     "name": "stdout",
     "output_type": "stream",
     "text": [
      "c(1)=1.0\n",
      "c(2)=0.5\n",
      "c(3)=0.3333333333333333\n",
      "c(4)=0.25\n",
      "c(5)=0.2\n"
     ]
    }
   ],
   "source": [
    "c = []\n",
    "for i in range(5):\n",
    "    n = i + 1\n",
    "    c.append(1/n)\n",
    "    print(f'c({n})={c[i]}')"
   ]
  },
  {
   "cell_type": "markdown",
   "metadata": {},
   "source": [
    "D)"
   ]
  },
  {
   "cell_type": "code",
   "execution_count": 7,
   "metadata": {},
   "outputs": [
    {
     "name": "stdout",
     "output_type": "stream",
     "text": [
      "d(1)=-6\n",
      "d(2)=-26\n",
      "d(3)=-60\n",
      "d(4)=-108\n",
      "d(5)=-170\n"
     ]
    }
   ],
   "source": [
    "d = []\n",
    "for i in range(5):\n",
    "    n = i + 1\n",
    "    d.append(n-7*n**2)\n",
    "    print(f'd({n})={d[i]}')"
   ]
  }
 ],
 "metadata": {
  "kernelspec": {
   "display_name": "Python 3.10.6 64-bit",
   "language": "python",
   "name": "python3"
  },
  "language_info": {
   "codemirror_mode": {
    "name": "ipython",
    "version": 3
   },
   "file_extension": ".py",
   "mimetype": "text/x-python",
   "name": "python",
   "nbconvert_exporter": "python",
   "pygments_lexer": "ipython3",
   "version": "3.10.6"
  },
  "orig_nbformat": 4,
  "vscode": {
   "interpreter": {
    "hash": "369f2c481f4da34e4445cda3fffd2e751bd1c4d706f27375911949ba6bb62e1c"
   }
  }
 },
 "nbformat": 4,
 "nbformat_minor": 2
}
