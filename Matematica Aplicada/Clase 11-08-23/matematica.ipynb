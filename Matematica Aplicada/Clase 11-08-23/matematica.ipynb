{
 "cells": [
  {
   "cell_type": "code",
   "execution_count": 17,
   "metadata": {},
   "outputs": [
    {
     "name": "stdout",
     "output_type": "stream",
     "text": [
      "a(1)=10\n",
      "a(2)=19\n",
      "a(3)=34\n",
      "a(4)=55\n",
      "a(5)=82\n"
     ]
    }
   ],
   "source": [
    "#P1\n",
    "a = []\n",
    "for i in range (5):\n",
    "    n = i + 1\n",
    "    a.append(3*n**2+7)\n",
    "    print(f'a({n})={a[i]}')"
   ]
  },
  {
   "cell_type": "code",
   "execution_count": 18,
   "metadata": {},
   "outputs": [
    {
     "name": "stdout",
     "output_type": "stream",
     "text": [
      "g(1) = 5\n",
      "g(2) = 40\n",
      "g(3) = 135\n",
      "g(4) = 320\n"
     ]
    }
   ],
   "source": [
    "#P2\n",
    "g = []\n",
    "for i in range(4):\n",
    "    n = i + 1\n",
    "    g.append(5*n**3)\n",
    "    print(f'g({n}) = {g[i]}')\n"
   ]
  },
  {
   "cell_type": "code",
   "execution_count": 19,
   "metadata": {},
   "outputs": [
    {
     "name": "stdout",
     "output_type": "stream",
     "text": [
      "k(1) = -1\n",
      "k(2) = 1\n",
      "k(3) = -1\n",
      "k(4) = 1\n",
      "k(5) = -1\n",
      "k(6) = 1\n",
      "k(7) = -1\n",
      "k(8) = 1\n",
      "k(9) = -1\n",
      "k(10) = 1\n",
      "k(11) = -1\n",
      "k(12) = 1\n",
      "k(13) = -1\n",
      "k(14) = 1\n",
      "k(15) = -1\n",
      "k(16) = 1\n",
      "k(17) = -1\n",
      "k(18) = 1\n",
      "k(19) = -1\n",
      "k(20) = 1\n"
     ]
    }
   ],
   "source": [
    "#P3\n",
    "k = []\n",
    "for i in range(20):\n",
    "    n = i + 1\n",
    "    k.append((-1) ** n)\n",
    "    print(f'k({n}) = {k[i]}')"
   ]
  },
  {
   "cell_type": "code",
   "execution_count": 20,
   "metadata": {},
   "outputs": [
    {
     "name": "stdout",
     "output_type": "stream",
     "text": [
      "h(0) = -6\n",
      "h(1) = 12\n",
      "h(2) = -18\n",
      "h(3) = 24\n",
      "h(4) = -30\n",
      "h(5) = 36\n",
      "h(6) = -42\n",
      "h(7) = 48\n",
      "h(8) = -54\n",
      "h(9) = 60\n",
      "h(10) = -66\n",
      "h(11) = 72\n",
      "h(12) = -78\n",
      "h(13) = 84\n",
      "h(14) = -90\n",
      "h(15) = 96\n",
      "h(16) = -102\n",
      "h(17) = 108\n",
      "h(18) = -114\n",
      "h(19) = 120\n",
      "h(20) = -126\n",
      "h(21) = 132\n",
      "h(22) = -138\n",
      "h(23) = 144\n",
      "h(24) = -150\n",
      "h(25) = 156\n",
      "h(26) = -162\n",
      "h(27) = 168\n",
      "h(28) = -174\n",
      "h(29) = 180\n",
      "h(30) = -186\n",
      "h(31) = 192\n",
      "h(32) = -198\n",
      "h(33) = 204\n",
      "h(34) = -210\n",
      "h(35) = 216\n",
      "h(36) = -222\n",
      "h(37) = 228\n",
      "h(38) = -234\n",
      "h(39) = 240\n",
      "h(40) = -246\n",
      "h(41) = 252\n",
      "h(42) = -258\n",
      "h(43) = 264\n",
      "h(44) = -270\n",
      "h(45) = 276\n",
      "h(46) = -282\n",
      "h(47) = 288\n",
      "h(48) = -294\n",
      "h(49) = 300\n",
      "h(50) = -306\n",
      "h(51) = 312\n",
      "h(52) = -318\n",
      "h(53) = 324\n",
      "h(54) = -330\n",
      "h(55) = 336\n",
      "h(56) = -342\n",
      "h(57) = 348\n",
      "h(58) = -354\n",
      "h(59) = 360\n",
      "h(60) = -366\n",
      "h(61) = 372\n",
      "h(62) = -378\n",
      "h(63) = 384\n",
      "h(64) = -390\n",
      "h(65) = 396\n",
      "h(66) = -402\n",
      "h(67) = 408\n",
      "h(68) = -414\n",
      "h(69) = 420\n",
      "h(70) = -426\n",
      "h(71) = 432\n",
      "h(72) = -438\n",
      "h(73) = 444\n",
      "h(74) = -450\n",
      "h(75) = 456\n",
      "h(76) = -462\n",
      "h(77) = 468\n",
      "h(78) = -474\n",
      "h(79) = 480\n",
      "h(80) = -486\n",
      "h(81) = 492\n",
      "h(82) = -498\n",
      "h(83) = 504\n",
      "h(84) = -510\n",
      "h(85) = 516\n",
      "h(86) = -522\n",
      "h(87) = 528\n",
      "h(88) = -534\n",
      "h(89) = 540\n",
      "h(90) = -546\n",
      "h(91) = 552\n",
      "h(92) = -558\n",
      "h(93) = 564\n",
      "h(94) = -570\n",
      "h(95) = 576\n",
      "h(96) = -582\n",
      "h(97) = 588\n",
      "h(98) = -594\n",
      "h(99) = 600\n"
     ]
    }
   ],
   "source": [
    "#P4\n",
    "h = []\n",
    "for i in range(100):\n",
    "    n = i + 1\n",
    "    h.append(6*n*(-1)**n)\n",
    "    print(f'h({i}) = {h[i]}')"
   ]
  },
  {
   "cell_type": "code",
   "execution_count": 25,
   "metadata": {},
   "outputs": [
    {
     "name": "stdout",
     "output_type": "stream",
     "text": [
      "a(10) = 0.1\n",
      "a(100) = 0.01\n",
      "a(1000) = 0.001\n",
      "a(10000) = 0.0001\n",
      "a(100000) = 1e-05\n"
     ]
    }
   ],
   "source": [
    "#P5\n",
    "a = []\n",
    "for i in range (5):\n",
    "    n = 10**(i+1)\n",
    "    a.append(1/n)\n",
    "    print(f'a({n}) = {a[i]}')"
   ]
  },
  {
   "cell_type": "code",
   "execution_count": 22,
   "metadata": {},
   "outputs": [
    {
     "name": "stdout",
     "output_type": "stream",
     "text": [
      "b(10)= 2.5937424601000023\n",
      "b(100)= 2.7048138294215285\n",
      "b(1000)= 2.7169239322355936\n",
      "b(10000)= 2.7181459268249255\n",
      "b(100000)= 2.7182682371922975\n"
     ]
    }
   ],
   "source": [
    "#P6\n",
    "b=[]\n",
    "for i in range (5):\n",
    "    n = 10**(i+1)\n",
    "    b.append((1+1/n)**n)\n",
    "    print (f'b({n})=',b[i])"
   ]
  }
 ],
 "metadata": {
  "kernelspec": {
   "display_name": "Python 3.10.6 64-bit",
   "language": "python",
   "name": "python3"
  },
  "language_info": {
   "codemirror_mode": {
    "name": "ipython",
    "version": 3
   },
   "file_extension": ".py",
   "mimetype": "text/x-python",
   "name": "python",
   "nbconvert_exporter": "python",
   "pygments_lexer": "ipython3",
   "version": "3.10.6"
  },
  "orig_nbformat": 4,
  "vscode": {
   "interpreter": {
    "hash": "369f2c481f4da34e4445cda3fffd2e751bd1c4d706f27375911949ba6bb62e1c"
   }
  }
 },
 "nbformat": 4,
 "nbformat_minor": 2
}
